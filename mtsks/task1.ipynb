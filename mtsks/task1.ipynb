{
 "cells": [
  {
   "cell_type": "code",
   "execution_count": 16,
   "metadata": {},
   "outputs": [],
   "source": [
    "from math import factorial as fac"
   ]
  },
  {
   "cell_type": "code",
   "execution_count": 17,
   "metadata": {},
   "outputs": [
    {
     "name": "stdout",
     "output_type": "stream",
     "text": [
      "lambda = 4.166666666666667\n",
      "mu = 3.0\n",
      "ro = 1.388888888888889\n"
     ]
    }
   ],
   "source": [
    "k = 1\n",
    "block_prob = .01\n",
    "\n",
    "# 1000 - количество абонентов\n",
    "# 0,1 - интенсивность звонков в сутки\n",
    "# 24 - часа в сутках\n",
    "lambda_ = 1000 * .1 / 24 \n",
    "\n",
    "v = 20\n",
    "# 60 - минут в часе\n",
    "mu = (1 / v) * 60\n",
    "\n",
    "ro = lambda_ / mu\n",
    "\n",
    "print(\"lambda =\", lambda_)\n",
    "print(\"mu =\", mu)\n",
    "print(\"ro =\", ro)"
   ]
  },
  {
   "cell_type": "code",
   "execution_count": 18,
   "metadata": {},
   "outputs": [],
   "source": [
    "def get_prob_list(k, ro):\n",
    "    p = []\n",
    "    for n in range(0, k + 1):\n",
    "        p_n = (ro ** n / factorial(n)) / sum([ro ** m / factorial(m) \n",
    "                                          for m in range(k + 1)])\n",
    "        p.append(p_n)\n",
    "\n",
    "    print(\"Число каналов k =\", k)\n",
    "    [print(f\"p{i} = {p[i]}\") for i in range(len(p))]\n",
    "    print(\"sum p_i =\", sum(p))\n",
    "    print()\n",
    "    \n",
    "    return p"
   ]
  },
  {
   "cell_type": "code",
   "execution_count": 19,
   "metadata": {},
   "outputs": [
    {
     "name": "stdout",
     "output_type": "stream",
     "text": [
      "Число каналов k = 1\n",
      "p0 = 0.4186046511627906\n",
      "p1 = 0.5813953488372092\n",
      "sum p_i = 0.9999999999999998\n",
      "\n",
      "Число каналов k = 2\n",
      "p0 = 0.2982052462034054\n",
      "p1 = 0.4141739530602853\n",
      "p2 = 0.2876208007363093\n",
      "sum p_i = 1.0\n",
      "\n",
      "Число каналов k = 3\n",
      "p0 = 0.26316304045364636\n",
      "p1 = 0.3655042228522866\n",
      "p2 = 0.25382237698075466\n",
      "p3 = 0.11751035971331235\n",
      "sum p_i = 0.9999999999999999\n",
      "\n",
      "Число каналов k = 4\n",
      "p0 = 0.2528463509894222\n",
      "p1 = 0.3511754874853087\n",
      "p2 = 0.24387186630924218\n",
      "p3 = 0.11290364180983437\n",
      "p4 = 0.03920265340619249\n",
      "sum p_i = 0.9999999999999999\n",
      "\n",
      "Число каналов k = 5\n",
      "p0 = 0.25012260933310604\n",
      "p1 = 0.34739251296264734\n",
      "p2 = 0.24124480066850512\n",
      "p3 = 0.11168740771690054\n",
      "p4 = 0.03878034990170158\n",
      "p5 = 0.010772319417139329\n",
      "sum p_i = 0.9999999999999998\n",
      "\n",
      "Число каналов k = 6\n",
      "p0 = 0.2495004568756554\n",
      "p1 = 0.3465284123272992\n",
      "p2 = 0.2406447307828467\n",
      "p3 = 0.11140959758465127\n",
      "p4 = 0.038683888050226135\n",
      "p5 = 0.01074552445839615\n",
      "p6 = 0.0024873899209250355\n",
      "sum p_i = 0.9999999999999999\n",
      "\n"
     ]
    }
   ],
   "source": [
    "p = get_prob_list(k, ro)\n",
    "\n",
    "while p[k] >= block_prob:\n",
    "    k += 1\n",
    "    p = get_prob_list(k, ro)"
   ]
  }
 ],
 "metadata": {
  "kernelspec": {
   "display_name": "Python 3",
   "language": "python",
   "name": "python3"
  },
  "language_info": {
   "codemirror_mode": {
    "name": "ipython",
    "version": 3
   },
   "file_extension": ".py",
   "mimetype": "text/x-python",
   "name": "python",
   "nbconvert_exporter": "python",
   "pygments_lexer": "ipython3",
   "version": "3.8.5"
  }
 },
 "nbformat": 4,
 "nbformat_minor": 4
}
