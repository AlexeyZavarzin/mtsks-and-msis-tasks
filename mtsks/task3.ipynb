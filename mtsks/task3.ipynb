{
 "cells": [
  {
   "cell_type": "code",
   "execution_count": 24,
   "metadata": {},
   "outputs": [],
   "source": [
    "import numpy as np"
   ]
  },
  {
   "cell_type": "code",
   "execution_count": 25,
   "metadata": {},
   "outputs": [],
   "source": [
    "def get_omega(L, Theta):\n",
    "    omega = np.array([1/L for _ in range(L)])\n",
    "    for _ in range(1000000):\n",
    "        omega = omega.dot(Theta)\n",
    "    return omega  \n",
    "\n",
    "def get_normalizing_constants(L, Q, x):\n",
    "    g = [[0] * L for _ in range((Q + 1))]\n",
    "    for i in range(Q + 1):\n",
    "        g[i][0] = x[0]**i\n",
    "    g[0] = [1] * L    \n",
    "    \n",
    "    for i in range(1, Q + 1):\n",
    "        for j in range(1, L):\n",
    "            g[i][j] = g[i][j-1] + x[j] * g[i-1][j]\n",
    "            \n",
    "    return g"
   ]
  },
  {
   "cell_type": "code",
   "execution_count": 27,
   "metadata": {},
   "outputs": [
    {
     "name": "stdout",
     "output_type": "stream",
     "text": [
      "omega: [0.150981 0.098466 0.013129 0.150981 0.095357 0.007946 0.301962 0.181177]\n",
      "Условие нормировки: 1.0\n",
      "\n",
      "М.о. длит. пребывания треб. в системах\n",
      "\n",
      "1:\t0.00010008340283569641\n",
      "------------------------------\n",
      "2:\t1.0000543507799336e-05\n",
      "------------------------------\n",
      "3:\t0.0010007251631617114\n",
      "------------------------------\n",
      "4:\t8.339124391938846e-05\n",
      "------------------------------\n",
      "5:\t8.333698846440633e-06\n",
      "------------------------------\n",
      "6:\t0.0006668616554548111\n",
      "------------------------------\n",
      "7:\t0.0001001669449081803\n",
      "------------------------------\n",
      "8:\t1.1995685736831834\n",
      "------------------------------\n"
     ]
    }
   ],
   "source": [
    "L = 8\n",
    "N = 12\n",
    "mu = [10000, 100000, 1000, 12000, 120000, 1500, 10000, 10]\n",
    "Theta = np.array([\n",
    "    [.0, .0, .0, .0, .0, .0, .0, 1.],\n",
    "    [.92, .0, .08, .0, .0, .0, .0, .0],\n",
    "    [.0, 1., .0, .0, .0, .0, .0, .0],\n",
    "    [.0, .0, .0, .0, .0, .0, .0, 1.],\n",
    "    [.0, .0, .0, .95, .0, .05, .0, .0],\n",
    "    [.0, .0, .0, .0, 1., .0, .0, .0],\n",
    "    [.0, .5, .0, .0, .5, .0, .0, .0],\n",
    "    [.0, .0, .0, .0, .0, .0, 1., .0]\n",
    "])\n",
    "\n",
    "\n",
    "# Решение уравнений omega*Theta = omega с условием нормировки\n",
    "omega = get_omega(L, Theta)\n",
    "print('omega:', omega)\n",
    "print('Условие нормировки:', sum(omega))\n",
    "\n",
    "x = [omega[i] / mu[i] for i in range(len(mu))]\n",
    "\n",
    "# Вычисление нормализующей константы G(Q,L) и значения величин g(Y,L), Y = 1,..,Q \n",
    "g = get_normalizing_constants(L, N, x)\n",
    "\n",
    "\n",
    "# вер. что в системах m и более треб.\n",
    "PM = [[0] * L for _ in range((N + 1))]\n",
    "# вер. что в системах ровно m треб.\n",
    "Pm = [[0] * L for _ in range((N + 1))]\n",
    "# м.о. числа треб. в системах\n",
    "s = [0] * L\n",
    "# м.о. числа занятых приборов в системах\n",
    "h = [0] * L\n",
    "# интенсивности входного потока треб. в системах\n",
    "lambdas = [0] * L\n",
    "# м.о. длит. пребывания треб. в системах\n",
    "u = [0] * L\n",
    "# коэфф. использования систем\n",
    "psy = [0] * L\n",
    "\n",
    "# Вычисление характеристик систем сети\n",
    "\n",
    "for i in range(N + 1):\n",
    "    for j in range(L):\n",
    "        PM[i][j] = x[j]**i * (g[N-i][L-1] / g[N][L-1])\n",
    "        Pm[i][j] = (x[j]**i / g[N][L-1]) * (g[N-i][L-1] - x[j] * g[N-i-1][L-1])\n",
    "\n",
    "for i in range(L):\n",
    "    for j in range(1, N + 1):\n",
    "        s[i] += x[i]**j * (g[N-j][L-1] / g[N][L-1])\n",
    "    h[i] = x[i] * (g[N-1][L-1] / g[N][L-1])\n",
    "    lambdas[i] = h[i] * mu[i]\n",
    "    u[i] = s[i] / lambdas[i]\n",
    "    psy[i] = lambdas[i] / mu[i]\n",
    "    \n",
    "# Вывод результатов:\n",
    "    \n",
    "print('\\nМ.о. длит. пребывания треб. в системах\\n')\n",
    "for i in range(L):\n",
    "    print(i + 1, end=':\\t')\n",
    "    print(u[i])\n",
    "    print('-' * 30)\n",
    "\n"
   ]
  }
 ],
 "metadata": {
  "kernelspec": {
   "display_name": "Python 3",
   "language": "python",
   "name": "python3"
  },
  "language_info": {
   "codemirror_mode": {
    "name": "ipython",
    "version": 3
   },
   "file_extension": ".py",
   "mimetype": "text/x-python",
   "name": "python",
   "nbconvert_exporter": "python",
   "pygments_lexer": "ipython3",
   "version": "3.8.5"
  }
 },
 "nbformat": 4,
 "nbformat_minor": 4
}
