{
 "cells": [
  {
   "cell_type": "code",
   "execution_count": 2,
   "metadata": {},
   "outputs": [],
   "source": [
    "from math import factorial as fac"
   ]
  },
  {
   "cell_type": "code",
   "execution_count": 5,
   "metadata": {},
   "outputs": [],
   "source": [
    "k = 4\n",
    "mu = 1\n",
    "\n",
    "lambda1 = 2\n",
    "lambda2 = 4\n",
    "lambda_ = lambda1 + lambda2\n",
    "\n",
    "ro1 = lambda1 / mu\n",
    "ro2 = lambda2 / mu\n",
    "ro = lambda_ / mu"
   ]
  },
  {
   "cell_type": "markdown",
   "metadata": {},
   "source": [
    "### Полнодоступная модель с потерями"
   ]
  },
  {
   "cell_type": "code",
   "execution_count": 7,
   "metadata": {},
   "outputs": [
    {
     "name": "stdout",
     "output_type": "stream",
     "text": [
      "p0 = 0.008695652173913044\n",
      "p1 = 0.052173913043478265\n",
      "p2 = 0.1565217391304348\n",
      "p3 = 0.3130434782608696\n",
      "p4 = 0.46956521739130436\n",
      "sum p_i = 1.0\n"
     ]
    }
   ],
   "source": [
    "# стационарное распределение вероятностей\n",
    "summ = sum([ro ** i / fac(i) for i in range(k + 1)]) ** (-1)\n",
    "\n",
    "p = [(ro ** n / fac(n)) * summ for n in range(k + 1)]\n",
    "\n",
    "[print(f\"p{i} = {p[i]}\") for i in range(len(p))]\n",
    "print(\"sum p_i =\", sum(p))"
   ]
  },
  {
   "cell_type": "code",
   "execution_count": 9,
   "metadata": {},
   "outputs": [
    {
     "name": "stdout",
     "output_type": "stream",
     "text": [
      "Вероятность блокировки хэндовер-вызова равна 0.46956521739130436\n"
     ]
    }
   ],
   "source": [
    "# вероятность блокировки хэндовер-вызова\n",
    "summ = sum([ro ** n / fac(n) for n in range(k + 1)]) ** (-1)\n",
    "\n",
    "B2 = (ro ** k / fac(k)) * summ \n",
    "\n",
    "print(\"Вероятность блокировки хэндовер-вызова равна\", B2)"
   ]
  },
  {
   "cell_type": "code",
   "execution_count": 10,
   "metadata": {},
   "outputs": [
    {
     "name": "stdout",
     "output_type": "stream",
     "text": [
      "Вероятность блокировки нового вызова равна 0.46956521739130436\n"
     ]
    }
   ],
   "source": [
    "# вероятность блокировки нового вызова\n",
    "B1 = B2\n",
    "\n",
    "print(\"Вероятность блокировки нового вызова равна\", B1)"
   ]
  },
  {
   "cell_type": "markdown",
   "metadata": {},
   "source": [
    "### Неполнодоступная модель с потерями"
   ]
  },
  {
   "cell_type": "code",
   "execution_count": 12,
   "metadata": {},
   "outputs": [],
   "source": [
    "# количество радиоканалов, предназначенных для \n",
    "# обслуживания как новых, так и хэндовер-вызовов\n",
    "g = 3"
   ]
  },
  {
   "cell_type": "code",
   "execution_count": 19,
   "metadata": {},
   "outputs": [
    {
     "name": "stdout",
     "output_type": "stream",
     "text": [
      "p0 = 0.010309278350515464\n",
      "p1 = 0.061855670103092786\n",
      "p2 = 0.18556701030927836\n",
      "p3 = 0.3711340206185567\n",
      "p4 = 0.3711340206185567\n",
      "sum p_i = 1.0\n"
     ]
    }
   ],
   "source": [
    "# стационарное распределение вероятностей\n",
    "summ1 = sum([ro ** n / fac(n) for n in range(g + 1)])\n",
    "summ2 = sum([(ro ** g * ro2 ** (n - g)) / fac(n)\n",
    "            for n in range(g + 1, k + 1)])\n",
    "p_0 = (summ1 + summ2) ** (-1)\n",
    "\n",
    "p = [p_0]\n",
    "for n in range(1, k + 1):\n",
    "    if n <= g:\n",
    "        p.append(p_0 * ((ro ** n) / fac(n)))\n",
    "    else:\n",
    "        p.append(p_0 * ((ro ** g * ro2 ** (n - g)) / fac(n)))\n",
    "\n",
    "[print(f\"p{i} = {p[i]}\") for i in range(len(p))]\n",
    "print(\"sum p_i =\", sum(p))        "
   ]
  },
  {
   "cell_type": "code",
   "execution_count": 15,
   "metadata": {},
   "outputs": [
    {
     "name": "stdout",
     "output_type": "stream",
     "text": [
      "Вероятность блокировки хэндовер-вызова равна 0.3711340206185567\n"
     ]
    }
   ],
   "source": [
    "# вероятность блокировки хэндовер-вызова\n",
    "B2 = ((ro ** g * ro2 ** (k - g)) / fac(k)) * p_0\n",
    "\n",
    "print(\"Вероятность блокировки хэндовер-вызова равна\", B2)"
   ]
  },
  {
   "cell_type": "code",
   "execution_count": 16,
   "metadata": {},
   "outputs": [
    {
     "name": "stdout",
     "output_type": "stream",
     "text": [
      "Вероятность блокировки нового вызова равна 0.7422680412371134\n"
     ]
    }
   ],
   "source": [
    "# вероятность блокировки нового вызова\n",
    "B1 = sum([(ro ** g * ro2 ** (n - g)) / fac(n) \n",
    "          for n in range(g, k + 1)]) * p_0\n",
    "\n",
    "print(\"Вероятность блокировки нового вызова равна\", B1)"
   ]
  }
 ],
 "metadata": {
  "kernelspec": {
   "display_name": "Python 3",
   "language": "python",
   "name": "python3"
  },
  "language_info": {
   "codemirror_mode": {
    "name": "ipython",
    "version": 3
   },
   "file_extension": ".py",
   "mimetype": "text/x-python",
   "name": "python",
   "nbconvert_exporter": "python",
   "pygments_lexer": "ipython3",
   "version": "3.8.5"
  }
 },
 "nbformat": 4,
 "nbformat_minor": 4
}
